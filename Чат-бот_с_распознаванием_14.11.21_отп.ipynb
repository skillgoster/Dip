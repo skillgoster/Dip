{
 "cells": [
  {
   "cell_type": "markdown",
   "metadata": {},
   "source": [
    "## Чат бот на 2 датасета с распознаванием текста, лиц и голосовых сообщений"
   ]
  },
  {
   "cell_type": "code",
   "execution_count": 1,
   "metadata": {},
   "outputs": [],
   "source": [
    "# импортируем библиотеки\n",
    "import numpy as np\n",
    "import pandas as pd\n",
    "import cv2\n",
    "from io import BytesIO\n",
    "from imutils import paths\n",
    "import face_recognition\n",
    "import pickle\n",
    "import os\n",
    "import face_recognition\n",
    "import imutils\n",
    "import pickle\n",
    "import time\n",
    "import cv2\n",
    "import os\n",
    "\n",
    "import logging \n",
    "\n",
    "import pytesseract\n",
    "import speech_recognition as sr\n",
    "import subprocess\n",
    "\n",
    "from urllib.request import urlopen"
   ]
  },
  {
   "cell_type": "markdown",
   "metadata": {},
   "source": [
    "### Загрузка 1-го датасета"
   ]
  },
  {
   "cell_type": "code",
   "execution_count": 2,
   "metadata": {},
   "outputs": [],
   "source": [
    "# загрузим 1-й датасет в переменную\n",
    "\n",
    "with open('dialogues.txt', encoding='utf-8') as f:\n",
    "    content = f.read()\n",
    "\n",
    "# считываем датасет, разделяя его на диалоги двойным переносом строки\n",
    "\n",
    "dialogues = [dialogue_line.split('\\n') for dialogue_line in content.split('\\n\\n')]\n",
    "\n",
    "# пишем функцию, которая приводит запрос пользователя к единому виду, удобному для обработки моделью\n",
    "# выполняем очистку введенного текста запроса\n",
    "\n",
    "def filter_text(text):\n",
    "    text = text.lower()\n",
    "    text = [c for c in text if c in 'abcdefghijklmnopqrstuvwxwzабвгдежзийклмнопрстуфхцчшщъыбэюя- '] #abcdefghijklmnopqrstuvwxwz 'абвгдеёжзийклмнопрстуфхцчшщъыьэюя- '\n",
    "    text = ''.join(text)\n",
    "    return text\n",
    "\n",
    "questions = set() # функция убирающая повторы из вопросов\n",
    "qa_dataset = [] # [[q, a], ...]\n",
    "\n",
    "for replicas in dialogues: \n",
    "    if len(replicas) < 2:  # если длина реплики меньше 2х (нет вопроса и ответа), то не берем эту реплику в наш датасет и переходим к следующей\n",
    "        continue \n",
    "        \n",
    "    question, answer = replicas[:2] #выделяем вопрос и ответ из реплики\n",
    "    question = filter_text(question[2:]) # отрезаем пару ненужнх символов в начале\n",
    "    answer = answer[2:] # отрезаем пару ненужнх символов в начале\n",
    "    \n",
    "    if question and question not in questions: # если question не пустой и если он уже не встречался ранее в списке вопросов (question), тогда мы его добавляем в наш датасет и в список question\n",
    "        questions.add(question) # добавляем новый question в список questions\n",
    "        qa_dataset.append([question, answer]) # добавляем извлеченные вопросы и ответы из начального \"сырого\" датасета в наш датасет вопросов-ответов\n",
    "    \n",
    "# создадим упрощенный датасет-словарь для ускорения, струткуру поиска \n",
    "qa_by_word_dataset = {} #{'word': [[q, a], ...]} \n",
    "# создаем словарь, где ключом является слово, которое встречается во фразе,заданной пользователем, \n",
    "# а значением является список из вопросов и ответов (мини дата сет),в которых встречается это слово \n",
    "# \n",
    "# пройдемся по всем репликам датасета qa,разобъем их на слова и каждому слову будет соотвестствовать список реплик (пар вопрос-ответ), где встречается это слово\n",
    "\n",
    "for question, answer in qa_dataset:\n",
    "    words = question.split(' ')\n",
    "    for word in words: # для каждого слова в заданном вопросе\n",
    "        if word not in qa_by_word_dataset: # в случае отсутствия слов в словаре qa_by_word_dataset создаем список\n",
    "            qa_by_word_dataset[word] = []\n",
    "        qa_by_word_dataset[word].append((question, answer)) # добавляем в датасет пару по ключевому слову\n"
   ]
  },
  {
   "cell_type": "code",
   "execution_count": 3,
   "metadata": {},
   "outputs": [
    {
     "data": {
      "text/plain": [
       "[['- Пока, толстуха!', '- Пока, малышка!'],\n",
       " ['- Этому надо положить конец,', '- Это не жизнь!'],\n",
       " ['- А ты не помолчишь?', '- Замолчу, когда захочу.']]"
      ]
     },
     "execution_count": 3,
     "metadata": {},
     "output_type": "execute_result"
    }
   ],
   "source": [
    "dialogues[0:3]"
   ]
  },
  {
   "cell_type": "code",
   "execution_count": 4,
   "metadata": {},
   "outputs": [
    {
     "data": {
      "text/plain": [
       "[['пока толстуха', 'Пока, малышка!'],\n",
       " ['этому надо положит конец', 'Это не жизнь!'],\n",
       " ['а ты не помолчиш', 'Замолчу, когда захочу.']]"
      ]
     },
     "execution_count": 4,
     "metadata": {},
     "output_type": "execute_result"
    }
   ],
   "source": [
    "qa_dataset[0:3]"
   ]
  },
  {
   "cell_type": "code",
   "execution_count": 5,
   "metadata": {},
   "outputs": [],
   "source": [
    "# преобразуем список списков в датасет\n",
    "df = pd.DataFrame(qa_dataset, columns =['context_0', 'reply'])"
   ]
  },
  {
   "cell_type": "code",
   "execution_count": 6,
   "metadata": {},
   "outputs": [
    {
     "data": {
      "text/html": [
       "<div>\n",
       "<style scoped>\n",
       "    .dataframe tbody tr th:only-of-type {\n",
       "        vertical-align: middle;\n",
       "    }\n",
       "\n",
       "    .dataframe tbody tr th {\n",
       "        vertical-align: top;\n",
       "    }\n",
       "\n",
       "    .dataframe thead th {\n",
       "        text-align: right;\n",
       "    }\n",
       "</style>\n",
       "<table border=\"1\" class=\"dataframe\">\n",
       "  <thead>\n",
       "    <tr style=\"text-align: right;\">\n",
       "      <th></th>\n",
       "      <th>context_0</th>\n",
       "      <th>reply</th>\n",
       "    </tr>\n",
       "  </thead>\n",
       "  <tbody>\n",
       "    <tr>\n",
       "      <th>0</th>\n",
       "      <td>пока толстуха</td>\n",
       "      <td>Пока, малышка!</td>\n",
       "    </tr>\n",
       "    <tr>\n",
       "      <th>1</th>\n",
       "      <td>этому надо положит конец</td>\n",
       "      <td>Это не жизнь!</td>\n",
       "    </tr>\n",
       "    <tr>\n",
       "      <th>2</th>\n",
       "      <td>а ты не помолчиш</td>\n",
       "      <td>Замолчу, когда захочу.</td>\n",
       "    </tr>\n",
       "  </tbody>\n",
       "</table>\n",
       "</div>"
      ],
      "text/plain": [
       "                  context_0                   reply\n",
       "0             пока толстуха          Пока, малышка!\n",
       "1  этому надо положит конец           Это не жизнь!\n",
       "2          а ты не помолчиш  Замолчу, когда захочу."
      ]
     },
     "execution_count": 6,
     "metadata": {},
     "output_type": "execute_result"
    }
   ],
   "source": [
    "df.head(3)"
   ]
  },
  {
   "cell_type": "markdown",
   "metadata": {},
   "source": [
    "### Загрузка 2-го датасета"
   ]
  },
  {
   "cell_type": "code",
   "execution_count": 7,
   "metadata": {},
   "outputs": [],
   "source": [
    "# загружаем датасет\n",
    "good1 = pd.read_csv('good.tsv', sep = '\\t')"
   ]
  },
  {
   "cell_type": "code",
   "execution_count": 8,
   "metadata": {},
   "outputs": [
    {
     "data": {
      "text/html": [
       "<div>\n",
       "<style scoped>\n",
       "    .dataframe tbody tr th:only-of-type {\n",
       "        vertical-align: middle;\n",
       "    }\n",
       "\n",
       "    .dataframe tbody tr th {\n",
       "        vertical-align: top;\n",
       "    }\n",
       "\n",
       "    .dataframe thead th {\n",
       "        text-align: right;\n",
       "    }\n",
       "</style>\n",
       "<table border=\"1\" class=\"dataframe\">\n",
       "  <thead>\n",
       "    <tr style=\"text-align: right;\">\n",
       "      <th></th>\n",
       "      <th>context_2</th>\n",
       "      <th>context_1</th>\n",
       "      <th>context_0</th>\n",
       "      <th>reply</th>\n",
       "      <th>label</th>\n",
       "    </tr>\n",
       "  </thead>\n",
       "  <tbody>\n",
       "    <tr>\n",
       "      <th>0</th>\n",
       "      <td>кликни на меня а потом на надпись \" видео - зв...</td>\n",
       "      <td>о , я тебя вижу .</td>\n",
       "      <td>ладно , повесь трубку .</td>\n",
       "      <td>не могу .</td>\n",
       "      <td>good</td>\n",
       "    </tr>\n",
       "    <tr>\n",
       "      <th>1</th>\n",
       "      <td>кликни на меня а потом на надпись \" видео - зв...</td>\n",
       "      <td>о , я тебя вижу .</td>\n",
       "      <td>ладно , повесь трубку .</td>\n",
       "      <td>нет , звонить буду я .</td>\n",
       "      <td>neutral</td>\n",
       "    </tr>\n",
       "    <tr>\n",
       "      <th>2</th>\n",
       "      <td>кликни на меня а потом на надпись \" видео - зв...</td>\n",
       "      <td>о , я тебя вижу .</td>\n",
       "      <td>ладно , повесь трубку .</td>\n",
       "      <td>я не прекращу звонить .</td>\n",
       "      <td>good</td>\n",
       "    </tr>\n",
       "  </tbody>\n",
       "</table>\n",
       "</div>"
      ],
      "text/plain": [
       "                                           context_2          context_1  \\\n",
       "0  кликни на меня а потом на надпись \" видео - зв...  о , я тебя вижу .   \n",
       "1  кликни на меня а потом на надпись \" видео - зв...  о , я тебя вижу .   \n",
       "2  кликни на меня а потом на надпись \" видео - зв...  о , я тебя вижу .   \n",
       "\n",
       "                 context_0                    reply    label  \n",
       "0  ладно , повесь трубку .                не могу .     good  \n",
       "1  ладно , повесь трубку .   нет , звонить буду я .  neutral  \n",
       "2  ладно , повесь трубку .  я не прекращу звонить .     good  "
      ]
     },
     "execution_count": 8,
     "metadata": {},
     "output_type": "execute_result"
    }
   ],
   "source": [
    "good1.head(3)"
   ]
  },
  {
   "cell_type": "code",
   "execution_count": 9,
   "metadata": {},
   "outputs": [],
   "source": [
    "# извлекаем пару столбцов  \"вопрос-ответ\" из датасета\n",
    "good2=good1.loc[:,['context_0', 'reply']]"
   ]
  },
  {
   "cell_type": "markdown",
   "metadata": {},
   "source": [
    "### объединяем датасеты 1 и 2 в общий датасет"
   ]
  },
  {
   "cell_type": "code",
   "execution_count": 10,
   "metadata": {},
   "outputs": [],
   "source": [
    "# объединяем датасеты 1 и 2 в общий датасет\n",
    "good = pd.concat([good2, df], ignore_index = True)"
   ]
  },
  {
   "cell_type": "code",
   "execution_count": 11,
   "metadata": {},
   "outputs": [
    {
     "data": {
      "text/html": [
       "<div>\n",
       "<style scoped>\n",
       "    .dataframe tbody tr th:only-of-type {\n",
       "        vertical-align: middle;\n",
       "    }\n",
       "\n",
       "    .dataframe tbody tr th {\n",
       "        vertical-align: top;\n",
       "    }\n",
       "\n",
       "    .dataframe thead th {\n",
       "        text-align: right;\n",
       "    }\n",
       "</style>\n",
       "<table border=\"1\" class=\"dataframe\">\n",
       "  <thead>\n",
       "    <tr style=\"text-align: right;\">\n",
       "      <th></th>\n",
       "      <th>context_0</th>\n",
       "      <th>reply</th>\n",
       "    </tr>\n",
       "  </thead>\n",
       "  <tbody>\n",
       "    <tr>\n",
       "      <th>0</th>\n",
       "      <td>ладно , повесь трубку .</td>\n",
       "      <td>не могу .</td>\n",
       "    </tr>\n",
       "    <tr>\n",
       "      <th>1</th>\n",
       "      <td>ладно , повесь трубку .</td>\n",
       "      <td>нет , звонить буду я .</td>\n",
       "    </tr>\n",
       "    <tr>\n",
       "      <th>2</th>\n",
       "      <td>ладно , повесь трубку .</td>\n",
       "      <td>я не прекращу звонить .</td>\n",
       "    </tr>\n",
       "    <tr>\n",
       "      <th>3</th>\n",
       "      <td>ладно , повесь трубку .</td>\n",
       "      <td>я звоню им .</td>\n",
       "    </tr>\n",
       "    <tr>\n",
       "      <th>4</th>\n",
       "      <td>я пытаюсь добраться до юджина , но , кажется ,...</td>\n",
       "      <td>куда же вы едете , месье ?</td>\n",
       "    </tr>\n",
       "    <tr>\n",
       "      <th>...</th>\n",
       "      <td>...</td>\n",
       "      <td>...</td>\n",
       "    </tr>\n",
       "    <tr>\n",
       "      <th>664783</th>\n",
       "      <td>а тепер ступай туда за королевой и мы доставим...</td>\n",
       "      <td>Что там?</td>\n",
       "    </tr>\n",
       "    <tr>\n",
       "      <th>664784</th>\n",
       "      <td>вот выпей тебе станет легче нет нет пока ни слова</td>\n",
       "      <td>Полегчало?</td>\n",
       "    </tr>\n",
       "    <tr>\n",
       "      <th>664785</th>\n",
       "      <td>но почему ты спрашиваеш меня я думала что</td>\n",
       "      <td>Что ты думала?</td>\n",
       "    </tr>\n",
       "    <tr>\n",
       "      <th>664786</th>\n",
       "      <td>никак потерял что</td>\n",
       "      <td>Да вот сокровище пропало.</td>\n",
       "    </tr>\n",
       "    <tr>\n",
       "      <th>664787</th>\n",
       "      <td>ты что же собирался убит ее</td>\n",
       "      <td>Разумеется. За то, что она убила тебя.</td>\n",
       "    </tr>\n",
       "  </tbody>\n",
       "</table>\n",
       "<p>664788 rows × 2 columns</p>\n",
       "</div>"
      ],
      "text/plain": [
       "                                                context_0  \\\n",
       "0                                 ладно , повесь трубку .   \n",
       "1                                 ладно , повесь трубку .   \n",
       "2                                 ладно , повесь трубку .   \n",
       "3                                 ладно , повесь трубку .   \n",
       "4       я пытаюсь добраться до юджина , но , кажется ,...   \n",
       "...                                                   ...   \n",
       "664783  а тепер ступай туда за королевой и мы доставим...   \n",
       "664784  вот выпей тебе станет легче нет нет пока ни слова   \n",
       "664785          но почему ты спрашиваеш меня я думала что   \n",
       "664786                                  никак потерял что   \n",
       "664787                        ты что же собирался убит ее   \n",
       "\n",
       "                                         reply  \n",
       "0                                    не могу .  \n",
       "1                       нет , звонить буду я .  \n",
       "2                      я не прекращу звонить .  \n",
       "3                                 я звоню им .  \n",
       "4                   куда же вы едете , месье ?  \n",
       "...                                        ...  \n",
       "664783                                Что там?  \n",
       "664784                              Полегчало?  \n",
       "664785                          Что ты думала?  \n",
       "664786               Да вот сокровище пропало.  \n",
       "664787  Разумеется. За то, что она убила тебя.  \n",
       "\n",
       "[664788 rows x 2 columns]"
      ]
     },
     "execution_count": 11,
     "metadata": {},
     "output_type": "execute_result"
    }
   ],
   "source": [
    "good"
   ]
  },
  {
   "cell_type": "markdown",
   "metadata": {},
   "source": [
    "### Векторизация"
   ]
  },
  {
   "cell_type": "code",
   "execution_count": 12,
   "metadata": {},
   "outputs": [
    {
     "name": "stdout",
     "output_type": "stream",
     "text": [
      "(664788, 195496)\n"
     ]
    }
   ],
   "source": [
    "# векторизация текстов\n",
    "from sklearn.feature_extraction.text import CountVectorizer, TfidfVectorizer #импортируем разные типы векторайзеров\n",
    "# создаем объект, который будет преобразовывать в числовые векторы\n",
    "vectorizer = TfidfVectorizer() # \n",
    "# обучаем его на всех контекстах -> запоминаем частоту каждого слова\n",
    "vectorizer.fit(good.context_0) \n",
    "# записываем в матрицу, сколько раз каждое слово встречалось в каждом тексте\n",
    "matrix_big = vectorizer.transform(good.context_0)\n",
    "print(matrix_big.shape) #размер матрицы = число фраз * размер словаря"
   ]
  },
  {
   "cell_type": "markdown",
   "metadata": {},
   "source": [
    "### Трансформирование модели"
   ]
  },
  {
   "cell_type": "code",
   "execution_count": 13,
   "metadata": {},
   "outputs": [
    {
     "name": "stdout",
     "output_type": "stream",
     "text": [
      "(664788, 900)\n",
      "0.37434922438700263\n"
     ]
    }
   ],
   "source": [
    "# сокращение размерности, для ускорения модели\n",
    "# импортируем метод главных компонент\n",
    "from sklearn.decomposition import TruncatedSVD\n",
    "# проецируем данные в 900 мерное пространство\n",
    "svd = TruncatedSVD(n_components = 900)\n",
    "svd.fit(matrix_big)\n",
    "matrix_small = svd.transform(matrix_big)\n",
    "# количество строк(наблюденияй) * количество столбцов\n",
    "print(matrix_small.shape)\n",
    "# % сохранения исходной информаации\n",
    "print(svd.explained_variance_ratio_.sum())"
   ]
  },
  {
   "cell_type": "markdown",
   "metadata": {},
   "source": [
    "### Модель обработки текста способом ближайших соседей"
   ]
  },
  {
   "cell_type": "code",
   "execution_count": 14,
   "metadata": {},
   "outputs": [],
   "source": [
    "from sklearn.neighbors import BallTree\n",
    "from sklearn.base import BaseEstimator\n",
    "\n",
    "def softmax(x):\n",
    "    # функция для создания вероятностного распределения\n",
    "    proba = np.exp(-x)\n",
    "    return proba / sum(proba)\n",
    "\n",
    "class NeighborSampler(BaseEstimator):\n",
    "    # Класс для случайного выбора одного из ближних соседей\n",
    "    def __init__(self, k=5, temperature=1.0):\n",
    "        self.k = k\n",
    "        self.temperature = temperature\n",
    "    def fit(self, X, y):\n",
    "        self.tree_ = BallTree(X)\n",
    "        self.y_ = np.array(y)\n",
    "    def predict(self, X, random_state=None):\n",
    "        distances, indices = self.tree_.query(X, return_distance=True, k=self.k)\n",
    "        result = []\n",
    "        for distance, index in zip(distances, indices):\n",
    "            result.append(np.random.choice(index, p=softmax(distance * self.temperature)))\n",
    "            return self.y_[result]"
   ]
  },
  {
   "cell_type": "markdown",
   "metadata": {},
   "source": [
    "### Объединение всех моделей"
   ]
  },
  {
   "cell_type": "code",
   "execution_count": 15,
   "metadata": {},
   "outputs": [],
   "source": [
    "# соединяем векторизацию, сокращение размерности и поиск соседей\n",
    "from sklearn.pipeline import make_pipeline\n",
    "ns = NeighborSampler()\n",
    "ns.fit(matrix_small, good.reply)\n",
    "pipe = make_pipeline(vectorizer, svd, ns) "
   ]
  },
  {
   "cell_type": "markdown",
   "metadata": {},
   "source": [
    "### Прикрутим модель обработки текста к Telegramm и добавим туда распознавание текста, конвертирование аудиосообщения в текст и детектирование лиц на изображениях"
   ]
  },
  {
   "cell_type": "code",
   "execution_count": 16,
   "metadata": {},
   "outputs": [],
   "source": [
    "# в директории Images хранятся папки со всеми изображениями и идентификаторами\n",
    "imagePaths = list(paths.list_images('Images')) \n",
    "knownEncodings = []\n",
    "knownNames = []\n",
    "# перебираем все папки с изображениями\n",
    "for (i, imagePath) in enumerate(imagePaths):\n",
    "    # извлекаем идентификатор из названия папки\n",
    "    name = imagePath.split(os.path.sep)[-2]\n",
    "    # загружаем изображение и конвертируем его из BGR в dlib ordering (RGB)\n",
    "    image = cv2.imread(imagePath) \n",
    "    rgb = cv2.cvtColor(image, cv2.COLOR_BGR2RGB)\n",
    "    #используем библиотеку Face_recognition для обнаружения лиц\n",
    "    boxes = face_recognition.face_locations(rgb,model='hog')\n",
    "    # вычисляем эмбеддинги для каждого лица\n",
    "    encodings = face_recognition.face_encodings(rgb, boxes)\n",
    "    # loop over the encodings\n",
    "    for encoding in encodings:\n",
    "        knownEncodings.append(encoding)\n",
    "        knownNames.append(name)\n",
    "# сохраним эмбеддинги вместе с их именами в формате словаря\n",
    "data = {\"encodings\": knownEncodings, \"names\": knownNames}\n",
    "#print('data', data)\n",
    "# для сохранения данных в файл используем метод pickle\n",
    "f = open(\"face_enc\", \"wb\") #f = open(\"face_enc\", \"wb\")\n",
    "f.write(pickle.dumps(data))\n",
    "f.close()"
   ]
  },
  {
   "cell_type": "code",
   "execution_count": 27,
   "metadata": {},
   "outputs": [
    {
     "name": "stderr",
     "output_type": "stream",
     "text": [
      "2021-11-15 19:54:58,863 - apscheduler.scheduler - INFO - Scheduler started\n"
     ]
    },
    {
     "name": "stdout",
     "output_type": "stream",
     "text": [
      "«Alex»: -Привет\n",
      "Бот: - здравствуй .\n",
      "«Alex»: -Разгоняйся\n",
      "Бот: - Ну долго нам еще?\n",
      "«Alex»: -Надеюсь, что сегодня\n",
      "Бот: - Нет, сегодня не церковный праздник.\n",
      "«Alex»: -Вроде бы, но мы к этому не привязаны\n",
      "Бот: - И на кого же, господин Маркварт?\n",
      "«Alex»: -Хз\n",
      "Бот: - 200р.\n",
      "«Alex»: -Дороговато\n",
      "Бот: - Бабник, У него даже взгляд неприятный.\n",
      "«Alex»: -😁\n",
      "Бот: - что такое , мини ?\n",
      "«Alex»: -Аусвайс\n",
      "Бот: - Ванная комната.\n",
      "Распознан текст: « ХОРОШО, ЧТО ПЯТНИЦА\n",
      "УЖЕ СЕГОДНЯ,\n",
      "А НЕ ЗАВТРА, КАК ВЧЕРА.\n",
      "\f",
      "»\n"
     ]
    },
    {
     "name": "stderr",
     "output_type": "stream",
     "text": [
      "2021-11-16 00:35:09,009 - telegram.ext.updater - INFO - Received signal 2 (SIGINT), stopping...\n",
      "2021-11-16 00:35:09,071 - apscheduler.scheduler - INFO - Scheduler has been shut down\n"
     ]
    }
   ],
   "source": [
    "# прикрутим модель бота к Telegramm\n",
    "from telegram import Update, ForceReply\n",
    "from telegram.ext import Updater, CommandHandler, MessageHandler, Filters, CallbackContext\n",
    "\n",
    "# Enable logging\n",
    "logging.basicConfig(\n",
    "    format='%(asctime)s - %(name)s - %(levelname)s - %(message)s', level=logging.INFO\n",
    ")\n",
    "\n",
    "logger = logging.getLogger(__name__)\n",
    "\n",
    "updater = Updater(\"1603824366:AAET-yxymYaKaMXjjmq4HCb__JT08t5czCQ\")\n",
    "# Define a few command handlers. These usually take the two arguments update and\n",
    "# context.\n",
    "def start(update: Update, context: CallbackContext) -> None:\n",
    "    \"\"\"Send a message when the command /start is issued.\"\"\"\n",
    "    user = update.effective_user\n",
    "    update.message.reply_text('1. При отправке текстового сообщения бот отправит Вам на него ответное сообщение. 2. При отправке изображения: Если бот распознает на нем лицо - он обведет его в квадрат и подпишет идентификатором. Если бот найдет там текст - он выведет его в виде сообщения. 3. При отправке голосового сообщения: бот пришлет Вам его в текстовом виде.')\n",
    "\n",
    "# функция обработки не распознных команд\n",
    "def unknown(update, context):\n",
    "    context.bot.send_message(chat_id=update.effective_chat.id, \n",
    "                             text=\"Sorry, I didn't understand that command. Неизвестная команда, наберите /start\")    \n",
    "\n",
    "def help_command(update: Update, context: CallbackContext) -> None:\n",
    "    \"\"\"Send a message when the command /help is issued.\"\"\"\n",
    "    update.message.reply_text('Набери /start!')\n",
    "\n",
    "\n",
    "def echo(update: Update, context: CallbackContext) -> None:\n",
    "    \"\"\"Echo the user message.\"\"\"\n",
    "    answer = pipe.predict([update.message.text.lower()])[0] # обработка ответа\n",
    "    update.message.reply_text(answer) \n",
    "    #print(stats)\n",
    "    # печать ника отправителя сообщения и текста запроса сообщения\n",
    "    print('«' + update.message.chat.first_name + '»' + ': -' + update.message.text) \n",
    "    print('Бот: -', answer) # печать ответа\n",
    "\n",
    "# функция распознавания текста и лиц\n",
    "def handle(update: Update, context: CallbackContext) -> None:\n",
    "    \n",
    "    #путь для подключения tesseract\n",
    "    pytesseract.pytesseract.tesseract_cmd = 'C:\\\\Program Files\\\\Tesseract-OCR\\\\tesseract.exe'    \n",
    "    # путь к XML-файлу, содержащему каскадный файл haar \n",
    "    cascPathface = os.path.dirname(cv2.__file__) + \"/data/haarcascade_frontalface_alt2.xml\"\n",
    "      \n",
    "    # загрузим haarcascade в каскадный классификатор\n",
    "    faceCascade = cv2.CascadeClassifier(cascPathface)\n",
    "    \n",
    "    # загрузим сохраненные известные эмбеддинги \n",
    "    data = pickle.loads(open(\"face_enc\", \"rb\").read())\n",
    "    \n",
    "    #возьмем фото из сообщения\n",
    "    fileID = update.message.photo[-1] \n",
    "    file = context.bot.get_file(fileID)\n",
    "    \n",
    "    #загружаем в переменную прочитанный файл\n",
    "    down_file = urlopen(file.file_path).read()\n",
    "    \n",
    "    # записывем загруженный боту файл локально\n",
    "    with open(\"image3.jpg\", 'wb') as f:  \n",
    "        f.write(down_file)\n",
    "        \n",
    "    # Подключение фото\n",
    "    img3 = cv2.imread(\"image3.jpg\")\n",
    "    rgb = cv2.cvtColor(img3, cv2.COLOR_BGR2RGB)\n",
    "    #преобразуем фото в оттенки серого\n",
    "    gray = cv2.cvtColor(img3, cv2.COLOR_BGR2GRAY)\n",
    "    \n",
    "    faces = faceCascade.detectMultiScale(gray,\n",
    "                                     scaleFactor=1.1,\n",
    "                                     minNeighbors=5,\n",
    "                                     minSize=(60, 60),\n",
    "                                     flags=cv2.CASCADE_SCALE_IMAGE)\n",
    "\n",
    "    # извлекаем эмбеддинги из присланного фото\n",
    "    encodings = face_recognition.face_encodings(rgb)\n",
    "    names = []\n",
    "   \n",
    "    for encoding in encodings:\n",
    "        # Сравним эмбеддинги из присланного фото с эмбеддинги в данных [\"кодировки\"] \n",
    "        # Совпадения содержат массив с логическими значениями и True для вложений, которым он точно соответствует и False при отсутствии\n",
    "        matches = face_recognition.compare_faces(data[\"encodings\"], encoding)\n",
    "        # имя набора = Unknown, если кодировка не совпадает\n",
    "        name = \"Unknown\"\n",
    "        #проверим, наличие совпадений\n",
    "        if True in matches:\n",
    "            #найдем позиции, в которых мы получаем True, и сохраним их \n",
    "            matchedIdxs = [i for (i, b) in enumerate(matches) if b]\n",
    "            counts = {}\n",
    "            #цикл на сопоставленных эмбеддингах и подсчет для каждого распознанного лица \n",
    "            for i in matchedIdxs:\n",
    "                #проверяем идентификаторы по соответствующим эмбеддингам, которые мы сохранили в matchedIdxs \n",
    "                name = data[\"names\"][i]\n",
    "                counts[name] = counts.get(name, 0) + 1\n",
    "                name = max(counts, key=counts.get)\n",
    "            # обновление списка идентификаторов \n",
    "            names.append(name)\n",
    "            # цикл по распознанным лицам\n",
    "            for ((x, y, w, h), name) in zip(faces, names):\n",
    "                # изменение масштаба координат лица\n",
    "                img3 = cv2.rectangle(img3, (x, y), (x + w, y + h), (0, 255, 0), 2)\n",
    "                # подпись идентификатора распознанного лица на изображении \n",
    "                txt3 = cv2.putText(img3, name, (x, y), cv2.FONT_HERSHEY_SIMPLEX, 1.85, (0, 255, 0), 2)\n",
    "    \n",
    "    #выводим текст с картинки\n",
    "    config = r'--oem 3 --psm 6'\n",
    "    \n",
    "    # печатаем ответ локально\n",
    "    print(\"Распознан текст: «\", pytesseract.image_to_string(img3, config=config, lang='rus+eng') + '»') #для русского и английского\n",
    "    answer1 = pytesseract.image_to_string(img3, config=config, lang='rus+eng') #для русского и английского \n",
    "    \n",
    "    cv2.imwrite('image3.jpg', img3)\n",
    "    img3 = BytesIO(open(\"image3.jpg\", \"rb\").read())\n",
    "\n",
    "    # отправляем детектированное лицо с картинки  \n",
    "    update.message.reply_photo(photo=img3)\n",
    "    # отправляем распознанный текст с картинки\n",
    "    update.message.reply_text(\"Распознан текст: «\" + answer1 + '»')\n",
    "\n",
    "    \n",
    "# функция распознавания преобразования голосового сообщения в текст    \n",
    "def voice(update: Update, context: CallbackContext) -> None:\n",
    "    # для распознавания текста нам потребуется класс Recognizer он имеет множество функций, а также определяет каким API мы будем пользоваться\n",
    "    r = sr.Recognizer()\n",
    "    #получаем оцифрованную звуковую дорожку и записываем ее в файл.\n",
    "    fileID = update.message.voice\n",
    "    file = context.bot.get_file(fileID)\n",
    "    down_file = urlopen(file.file_path).read()\n",
    "    with open(\"audio.ogg\", \"wb\") as fot:\n",
    "        fot.write(down_file)\n",
    "    # конвертируем файл из формата .ogg в формат .wav    \n",
    "    process = subprocess.run(['ffmpeg', '-i', 'audio.ogg', 'audio.wav', '-y']) \n",
    "    # открываем файл и считываем его содержимое, сохраняя данные в экземпляре AudioFile\n",
    "    file1 = sr.AudioFile('audio.wav')\n",
    "    with file1 as source:\n",
    "        try:#для дальнейшей работы требуется преобразовать сигнал в объект модуля Speech_recognition для этого существует метод record()\n",
    "            audio = r.record(source)\n",
    "            #для расшифровки сигнала используется метод recognize_google()\n",
    "            #выбранный Api поддерживает русский язык\n",
    "            text = r.recognize_google(audio, language='ru-RU`')\n",
    "            update.message.reply_text(text)\n",
    "            print('аудио: ', text)\n",
    "        except sr.UnknownValueError:\n",
    "            update.message.reply_text(\"Произошла ошибка при распознавании голоса!\")\n",
    "            print(\"Произошла ошибка при распознавании голоса!\")\n",
    "        \n",
    "def main() -> None:\n",
    "    \"\"\"Start the bot.\"\"\"\n",
    "    # Create the Updater and pass it your bot's token.\n",
    "    # создаем объект Updater\n",
    "    updater = Updater(\"1603824366:AAET-yxymYaKaMXjjmq4HCb__JT08t5czCQ\")\n",
    "    # cоздаем объект dispatcher\n",
    "    # Get the dispatcher to register handlers\n",
    "    dispatcher = updater.dispatcher\n",
    "    # обработчики встроенных запросов \n",
    "    # on different commands - answer in Telegram\n",
    "    dispatcher.add_handler(CommandHandler(\"start\", start))\n",
    "    dispatcher.add_handler(CommandHandler(\"help\", help_command))\n",
    "\n",
    "    # on non command i.e message - echo the message on Telegram\n",
    "    dispatcher.add_handler(MessageHandler(Filters.text & ~Filters.command, echo))\n",
    "    # обработчик графических сообщений типа photo  \n",
    "    dispatcher.add_handler(MessageHandler(Filters.photo & ~Filters.text , handle))\n",
    "    # обработчик голосовых сообщений типа voice  \n",
    "    dispatcher.add_handler(MessageHandler(Filters.voice & ~Filters.text , voice))\n",
    "    # обработчик не распознных команд\n",
    "    unknown_handler = MessageHandler(Filters.command, unknown)\n",
    "    dispatcher.add_handler(unknown_handler)\n",
    "    \n",
    "    # Start the Bot\n",
    "    # запуск прослушивания сообщений\n",
    "    updater.start_polling()\n",
    "\n",
    "    # Run the bot until you press Ctrl-C or the process receives SIGINT,\n",
    "    # SIGTERM or SIGABRT. This should be used most of the time, since\n",
    "    # start_polling() is non-blocking and will stop the bot gracefully.\n",
    "    # обработчик нажатия Ctrl+C\n",
    "    updater.idle()\n",
    "\n",
    "\n",
    "if __name__ == '__main__':\n",
    "    main()"
   ]
  },
  {
   "cell_type": "code",
   "execution_count": null,
   "metadata": {},
   "outputs": [],
   "source": []
  }
 ],
 "metadata": {
  "kernelspec": {
   "display_name": "Python 3 (ipykernel)",
   "language": "python",
   "name": "python3"
  },
  "language_info": {
   "codemirror_mode": {
    "name": "ipython",
    "version": 3
   },
   "file_extension": ".py",
   "mimetype": "text/x-python",
   "name": "python",
   "nbconvert_exporter": "python",
   "pygments_lexer": "ipython3",
   "version": "3.8.12"
  }
 },
 "nbformat": 4,
 "nbformat_minor": 4
}
